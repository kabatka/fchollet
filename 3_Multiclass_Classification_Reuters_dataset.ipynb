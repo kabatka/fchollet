{
 "cells": [
  {
   "cell_type": "markdown",
   "metadata": {},
   "source": [
    "# Multiclass Classification\n",
    "\n",
    "In this problem we will design a neural network to classify newsreels from Reuters dataset into 46 mutually exclusive classes using the Python library, Keras. Thus, this problem is more specifically a _single-label, multiclass classification_ problem."
   ]
  },
  {
   "cell_type": "markdown",
   "metadata": {},
   "source": [
    "## About the Reuters dataset\n",
    "\n",
    "The _Reuters dataset_ is a set of short newswires sorted into 46 _mutually exclusive_ topics. It was published by _Reuters_ in 1986. This dataset is widely used for text classification. There are 46 topics, where some topics are represented more than others. However, each topic contains atleast 10 examples in the training set.\n",
    "\n",
    "The _reuters dataset_ comes pleloaded with keras and contains 8,982 training examples and 2,246 testing examples."
   ]
  },
  {
   "cell_type": "markdown",
   "metadata": {},
   "source": [
    "## Loading the dataset"
   ]
  },
  {
   "cell_type": "markdown",
   "metadata": {},
   "source": [
    "Load data from pre-packaged module in Keras. We will limit the data to 10,000 of the most frequently occuring words. To do thiss we pass `num_words=10000` argument to the `load_data` function."
   ]
  },
  {
   "cell_type": "code",
   "execution_count": 1,
   "metadata": {},
   "outputs": [],
   "source": [
    "from keras.datasets import reuters\n",
    "\n",
    "# Load \n",
    "(train_data, train_labels), (test_data, test_labels) = reuters.load_data(num_words=10000)"
   ]
  },
  {
   "cell_type": "markdown",
   "metadata": {},
   "source": [
    "## EDA"
   ]
  },
  {
   "cell_type": "code",
   "execution_count": 2,
   "metadata": {},
   "outputs": [
    {
     "data": {
      "text/plain": [
       "8982"
      ]
     },
     "execution_count": 2,
     "metadata": {},
     "output_type": "execute_result"
    }
   ],
   "source": [
    "# Number of training Samples\n",
    "len(train_data)"
   ]
  },
  {
   "cell_type": "code",
   "execution_count": 3,
   "metadata": {},
   "outputs": [
    {
     "data": {
      "text/plain": [
       "2246"
      ]
     },
     "execution_count": 3,
     "metadata": {},
     "output_type": "execute_result"
    }
   ],
   "source": [
    "# Number of testing samples\n",
    "len(test_data)"
   ]
  },
  {
   "cell_type": "code",
   "execution_count": 4,
   "metadata": {},
   "outputs": [
    {
     "data": {
      "text/plain": [
       "[1,\n",
       " 2,\n",
       " 2,\n",
       " 8,\n",
       " 43,\n",
       " 10,\n",
       " 447,\n",
       " 5,\n",
       " 25,\n",
       " 207,\n",
       " 270,\n",
       " 5,\n",
       " 3095,\n",
       " 111,\n",
       " 16,\n",
       " 369,\n",
       " 186,\n",
       " 90,\n",
       " 67,\n",
       " 7,\n",
       " 89,\n",
       " 5,\n",
       " 19,\n",
       " 102,\n",
       " 6,\n",
       " 19,\n",
       " 124,\n",
       " 15,\n",
       " 90,\n",
       " 67,\n",
       " 84,\n",
       " 22,\n",
       " 482,\n",
       " 26,\n",
       " 7,\n",
       " 48,\n",
       " 4,\n",
       " 49,\n",
       " 8,\n",
       " 864,\n",
       " 39,\n",
       " 209,\n",
       " 154,\n",
       " 6,\n",
       " 151,\n",
       " 6,\n",
       " 83,\n",
       " 11,\n",
       " 15,\n",
       " 22,\n",
       " 155,\n",
       " 11,\n",
       " 15,\n",
       " 7,\n",
       " 48,\n",
       " 9,\n",
       " 4579,\n",
       " 1005,\n",
       " 504,\n",
       " 6,\n",
       " 258,\n",
       " 6,\n",
       " 272,\n",
       " 11,\n",
       " 15,\n",
       " 22,\n",
       " 134,\n",
       " 44,\n",
       " 11,\n",
       " 15,\n",
       " 16,\n",
       " 8,\n",
       " 197,\n",
       " 1245,\n",
       " 90,\n",
       " 67,\n",
       " 52,\n",
       " 29,\n",
       " 209,\n",
       " 30,\n",
       " 32,\n",
       " 132,\n",
       " 6,\n",
       " 109,\n",
       " 15,\n",
       " 17,\n",
       " 12]"
      ]
     },
     "execution_count": 4,
     "metadata": {},
     "output_type": "execute_result"
    }
   ],
   "source": [
    "# Check out the first sample\n",
    "train_data[0]"
   ]
  },
  {
   "cell_type": "markdown",
   "metadata": {},
   "source": [
    "### Decoding a Review"
   ]
  },
  {
   "cell_type": "code",
   "execution_count": 5,
   "metadata": {},
   "outputs": [],
   "source": [
    "# Load mapping of words to numbers\n",
    "word_index = reuters.get_word_index()"
   ]
  },
  {
   "cell_type": "code",
   "execution_count": 6,
   "metadata": {},
   "outputs": [],
   "source": [
    "# Generate integer to word mappings\n",
    "reverse_word_index = dict([(value, key) for (key, value) in word_index.items()])"
   ]
  },
  {
   "cell_type": "code",
   "execution_count": 7,
   "metadata": {},
   "outputs": [
    {
     "data": {
      "text/plain": [
       "'? ? ? said as a result of its december acquisition of space co it expects earnings per share in 1987 of 1 15 to 1 30 dlrs per share up from 70 cts in 1986 the company said pretax net should rise to nine to 10 mln dlrs from six mln dlrs in 1986 and rental operation revenues to 19 to 22 mln dlrs from 12 5 mln dlrs it said cash flow per share this year should be 2 50 to three dlrs reuter 3'"
      ]
     },
     "execution_count": 7,
     "metadata": {},
     "output_type": "execute_result"
    }
   ],
   "source": [
    "# Decode the first newswire\n",
    "#\n",
    "# Indices are offset by 3 because, 0,1, and 2 are reserved for 'paddind', 'start of response', and 'unknown'\n",
    "decoded_newswire = ' '.join([reverse_word_index.get(i-3, '?') for i in train_data[0]])\n",
    "decoded_newswire"
   ]
  },
  {
   "cell_type": "code",
   "execution_count": 8,
   "metadata": {},
   "outputs": [
    {
     "data": {
      "text/plain": [
       "3"
      ]
     },
     "execution_count": 8,
     "metadata": {},
     "output_type": "execute_result"
    }
   ],
   "source": [
    "# Label associated with the decoded newswire\n",
    "train_labels[0]"
   ]
  },
  {
   "cell_type": "markdown",
   "metadata": {},
   "source": [
    "## Preparing the data"
   ]
  },
  {
   "cell_type": "markdown",
   "metadata": {},
   "source": [
    "Since we cannot feed integer sequences to the neural network, we will vectorize each sequence and convert them into _tensors_. We will do this by One-Hot Encoding each sequence.\n",
    "\n",
    "Since we have 10,000 unique elements in our training and testing data. Vectorizing our input data will result in two 2D tensors. A _training Input tensor_ of shape (8982, 10000) and a _test input tensor_ of shape (2246, 10000). "
   ]
  },
  {
   "cell_type": "code",
   "execution_count": 9,
   "metadata": {},
   "outputs": [],
   "source": [
    "import numpy as np\n",
    "\n",
    "def vectorize_sequences(sequences, dimension=10000):\n",
    "    results = np.zeros((len(sequences), 10000))\n",
    "    for i, sequence in enumerate(sequences):\n",
    "        results[i, sequence] = 1\n",
    "    return results"
   ]
  },
  {
   "cell_type": "code",
   "execution_count": 10,
   "metadata": {},
   "outputs": [],
   "source": [
    "X_train = vectorize_sequences(train_data)\n",
    "X_test = vectorize_sequences(test_data)"
   ]
  },
  {
   "cell_type": "markdown",
   "metadata": {},
   "source": [
    "The Labels for this problem include 46 different classes. The labels are represented as integers in the range 1 to 46. To vecorize the labels we could either, \n",
    "* cast the labels as integer tensors\n",
    "* One-Hot encode the label data\n",
    "\n",
    "We will go ahead with One-Hot Encoding of the label data. This will give us tensors whose 2nd axis has 46 dimensions. This can be done easily using the `to_categorical` function in Keras. For greater clarity, we will do it manually."
   ]
  },
  {
   "cell_type": "code",
   "execution_count": 11,
   "metadata": {},
   "outputs": [],
   "source": [
    "# Categorical Encoding of the Labels\n",
    "def to_one_hot(labels, dimension=46):\n",
    "    results = np.zeros((len(labels), dimension))\n",
    "    for i,label in enumerate(labels):\n",
    "        results[i,label] = 1\n",
    "    return results\n",
    "\n",
    "Y_train = to_one_hot(train_labels)\n",
    "Y_test = to_one_hot(test_labels)"
   ]
  },
  {
   "cell_type": "markdown",
   "metadata": {},
   "source": [
    "The other way to perform _One-Hot categorical encoding_ of the labels is to use the built-in function.\n",
    "\n",
    "```python\n",
    "from keras.utils.np_utils import to_categorical\n",
    "\n",
    "Y_train = to_categorical(train_labels)\n",
    "Y_test  = to_categorical(test_labels)\n",
    "```"
   ]
  },
  {
   "cell_type": "code",
   "execution_count": 12,
   "metadata": {},
   "outputs": [
    {
     "name": "stdout",
     "output_type": "stream",
     "text": [
      "(8982, 10000)\n",
      "(8982, 46)\n",
      "\n",
      "(2246, 10000)\n",
      "(2246, 46)\n"
     ]
    }
   ],
   "source": [
    "# Checkinf if the tensors we created, bear the predicted shapes\n",
    "print(X_train.shape)\n",
    "print(Y_train.shape)\n",
    "print()\n",
    "print(X_test.shape)\n",
    "print(Y_test.shape)"
   ]
  },
  {
   "cell_type": "markdown",
   "metadata": {},
   "source": [
    "## Building the neural network"
   ]
  },
  {
   "cell_type": "markdown",
   "metadata": {},
   "source": [
    "The problem of topic classification (_single-label multiclass classification_) is similar to _Binary Classification_ of text fields. Both problems follow a similar approach towards handling and pre processing of data. The pedogogy of implementing neural network remains unchanged. However, there is a new constraint: the number of classes just went from 2 to 46. The _dimensionality_ of the _output space_ is much higher.\n",
    "\n",
    "This means that each layer will have to deal with more data, which presents the very real possibility of _information bottleneck_.\n",
    "\n",
    "### Information Bottleneck\n",
    "\n",
    "Given a _multiclass classification_ problem; the amount of processing that needs to be performed on the data increses dramatically as compared to a _Bianry Classification_ problem. \n",
    "\n",
    "In a _stack_ of _Dense_ layers, like the ones we use, each layer can only access information present in the output of the previous layer. If a layer drops relevant information, that information is permanently inaccessable for all subsequent layers. Information once lost, can never be recovered by later layers. In cases, like _multiclass classification_, where information is limited and crucial, every layer could become an _information bottleneck_.\n",
    "\n",
    "If a layer drops relevent information, it is potentilly an information bottleneck.\n",
    "\n",
    "Such layers could easily bottleneck the performance of our network. To ensure that crucial data is not discarded, we will use layers with greater number of _hidden units_, i.e. _Larger layers_. For comparision, we use layers with _16 hidden units_, `Dense(16)` in the _two-class_ classification example of Seniment analysis of IMDB Reviws. In this case, where the output dimension is 46, we will use layers with 64 hidden units, `Dense(64)`."
   ]
  },
  {
   "cell_type": "markdown",
   "metadata": {},
   "source": [
    "### Model Definition\n",
    "\n",
    "We will define our network with 2 _fully-connected_ ReLU activated layers with 64 hidden units each. The third and last layer will be Dense layer of size 46. This layer will use a _softmax_ activation and will output a 46-dimentional vector. Every dimension will be the probability of the input belonging to that class. "
   ]
  },
  {
   "cell_type": "code",
   "execution_count": 13,
   "metadata": {},
   "outputs": [],
   "source": [
    "from keras import models\n",
    "from keras import layers\n",
    "\n",
    "model = models.Sequential()\n",
    "model.add(layers.Dense(64, activation='relu', input_shape = (10000,)))\n",
    "model.add(layers.Dense(64, activation='relu'))\n",
    "model.add(layers.Dense(46, activation='softmax'))"
   ]
  },
  {
   "cell_type": "markdown",
   "metadata": {},
   "source": [
    "### Compiling the model\n",
    "\n",
    "For our network, we will use the _optimizer_ `rmsprop`, _loss function_, `categorical_crossentropy`, and will monitor the `accuracy` (_metrics_) of the model."
   ]
  },
  {
   "cell_type": "code",
   "execution_count": 14,
   "metadata": {},
   "outputs": [],
   "source": [
    "model.compile(optimizer='rmsprop',\n",
    "             loss='categorical_crossentropy',\n",
    "             metrics=['accuracy'])"
   ]
  },
  {
   "cell_type": "markdown",
   "metadata": {},
   "source": [
    "## Setting up Validation Sets"
   ]
  },
  {
   "cell_type": "code",
   "execution_count": 15,
   "metadata": {},
   "outputs": [],
   "source": [
    "# Validation samples\n",
    "X_val = X_train[:1000]\n",
    "partial_X_train = X_train[1000:]\n",
    "\n",
    "# Validation labels\n",
    "Y_val = Y_train[:1000]\n",
    "partial_Y_train = Y_train[1000:]"
   ]
  },
  {
   "cell_type": "markdown",
   "metadata": {},
   "source": [
    "## Training our model"
   ]
  },
  {
   "cell_type": "markdown",
   "metadata": {},
   "source": [
    "Initially, we will train our models for 20 epochs in mini-batches of 512 samples. We will aslo pass our _validation set_ to the `fit` method. \n",
    "\n",
    "Calling the `fit` method returns a `History` object. This object contains a member `history` which stores all data  about the training process including the values of observable or monitored quantaties as the epochs proceed. We will save this object to better determine the fine tuning to be applied to the training step."
   ]
  },
  {
   "cell_type": "code",
   "execution_count": 16,
   "metadata": {},
   "outputs": [
    {
     "name": "stdout",
     "output_type": "stream",
     "text": [
      "Epoch 1/20\n",
      "16/16 [==============================] - 1s 60ms/step - loss: 2.5975 - accuracy: 0.5083 - val_loss: 1.6964 - val_accuracy: 0.6380\n",
      "Epoch 2/20\n",
      "16/16 [==============================] - 1s 39ms/step - loss: 1.4027 - accuracy: 0.7022 - val_loss: 1.3103 - val_accuracy: 0.7060\n",
      "Epoch 3/20\n",
      "16/16 [==============================] - 1s 40ms/step - loss: 1.0592 - accuracy: 0.7689 - val_loss: 1.1499 - val_accuracy: 0.7460\n",
      "Epoch 4/20\n",
      "16/16 [==============================] - 1s 37ms/step - loss: 0.8425 - accuracy: 0.8183 - val_loss: 1.0576 - val_accuracy: 0.7730\n",
      "Epoch 5/20\n",
      "16/16 [==============================] - 1s 36ms/step - loss: 0.6730 - accuracy: 0.8572 - val_loss: 0.9827 - val_accuracy: 0.7910\n",
      "Epoch 6/20\n",
      "16/16 [==============================] - 1s 39ms/step - loss: 0.5379 - accuracy: 0.8859 - val_loss: 0.9520 - val_accuracy: 0.8090\n",
      "Epoch 7/20\n",
      "16/16 [==============================] - 1s 44ms/step - loss: 0.4302 - accuracy: 0.9060 - val_loss: 0.9187 - val_accuracy: 0.8040\n",
      "Epoch 8/20\n",
      "16/16 [==============================] - 1s 46ms/step - loss: 0.3452 - accuracy: 0.9291 - val_loss: 0.9476 - val_accuracy: 0.8120\n",
      "Epoch 9/20\n",
      "16/16 [==============================] - 1s 35ms/step - loss: 0.2881 - accuracy: 0.9387 - val_loss: 0.9324 - val_accuracy: 0.8110\n",
      "Epoch 10/20\n",
      "16/16 [==============================] - 1s 38ms/step - loss: 0.2414 - accuracy: 0.9450 - val_loss: 0.9179 - val_accuracy: 0.8170\n",
      "Epoch 11/20\n",
      "16/16 [==============================] - 1s 35ms/step - loss: 0.2133 - accuracy: 0.9478 - val_loss: 0.9402 - val_accuracy: 0.8130\n",
      "Epoch 12/20\n",
      "16/16 [==============================] - 1s 39ms/step - loss: 0.1818 - accuracy: 0.9508 - val_loss: 0.9359 - val_accuracy: 0.8150\n",
      "Epoch 13/20\n",
      "16/16 [==============================] - 1s 36ms/step - loss: 0.1661 - accuracy: 0.9525 - val_loss: 0.9874 - val_accuracy: 0.8030\n",
      "Epoch 14/20\n",
      "16/16 [==============================] - 1s 31ms/step - loss: 0.1526 - accuracy: 0.9564 - val_loss: 0.9802 - val_accuracy: 0.8190\n",
      "Epoch 15/20\n",
      "16/16 [==============================] - 1s 40ms/step - loss: 0.1375 - accuracy: 0.9572 - val_loss: 0.9750 - val_accuracy: 0.8200\n",
      "Epoch 16/20\n",
      "16/16 [==============================] - 1s 39ms/step - loss: 0.1291 - accuracy: 0.9550 - val_loss: 0.9935 - val_accuracy: 0.8130\n",
      "Epoch 17/20\n",
      "16/16 [==============================] - 1s 44ms/step - loss: 0.1259 - accuracy: 0.9568 - val_loss: 1.0508 - val_accuracy: 0.8070\n",
      "Epoch 18/20\n",
      "16/16 [==============================] - 1s 38ms/step - loss: 0.1184 - accuracy: 0.9587 - val_loss: 1.0544 - val_accuracy: 0.7990\n",
      "Epoch 19/20\n",
      "16/16 [==============================] - 1s 45ms/step - loss: 0.1161 - accuracy: 0.9572 - val_loss: 1.0632 - val_accuracy: 0.8110\n",
      "Epoch 20/20\n",
      "16/16 [==============================] - 1s 41ms/step - loss: 0.1135 - accuracy: 0.9565 - val_loss: 1.1270 - val_accuracy: 0.7820\n"
     ]
    }
   ],
   "source": [
    "history = model.fit(partial_X_train,\n",
    "                   partial_Y_train,\n",
    "                   epochs=20,\n",
    "                   batch_size=512,\n",
    "                   validation_data=(X_val, Y_val))"
   ]
  },
  {
   "cell_type": "markdown",
   "metadata": {},
   "source": [
    "At the end of training we have attained a training accuracy of 95% and validation accuracy of 80.9%\n",
    "\n",
    "Now that we have trained our network, we will observe its performance metrics stored in the `History` object.\n",
    "\n",
    "Calling the `fit` method returns a `History` object. This object has an attribute `history` which is a dictionary containing four enteries: one per monitored metric."
   ]
  },
  {
   "cell_type": "code",
   "execution_count": 17,
   "metadata": {},
   "outputs": [
    {
     "data": {
      "text/plain": [
       "dict_keys(['loss', 'accuracy', 'val_loss', 'val_accuracy'])"
      ]
     },
     "execution_count": 17,
     "metadata": {},
     "output_type": "execute_result"
    }
   ],
   "source": [
    "history_dict = history.history\n",
    "history_dict.keys()"
   ]
  },
  {
   "cell_type": "markdown",
   "metadata": {},
   "source": [
    "`history_dict` contains values of \n",
    "* Training loss\n",
    "* Trainining Accuracy\n",
    "* Validation Loss\n",
    "* Validation Accuracy\n",
    "\n",
    "at the end of each epoch.\n",
    "\n",
    "Let's use Matplotlib to plot Training and validation losses and Traing and Validation Accuracy side by side."
   ]
  },
  {
   "cell_type": "code",
   "execution_count": 18,
   "metadata": {},
   "outputs": [],
   "source": [
    "import matplotlib.pyplot as plt\n",
    "%matplotlib inline"
   ]
  },
  {
   "cell_type": "code",
   "execution_count": 19,
   "metadata": {},
   "outputs": [
    {
     "data": {
      "image/png": "[encoded data removed]",
      "text/plain": [
       "<Figure size 432x288 with 1 Axes>"
      ]
     },
     "metadata": {
      "needs_background": "light"
     },
     "output_type": "display_data"
    }
   ],
   "source": [
    "# Plotting losses\n",
    "loss_values = history_dict['loss']\n",
    "val_loss_values = history_dict['val_loss']\n",
    "\n",
    "epochs = range(1, len(loss_values) + 1)\n",
    "\n",
    "plt.plot(epochs, loss_values, 'bo', label=\"Training Loss\")\n",
    "plt.plot(epochs, val_loss_values, 'b', label=\"Validation Loss\")\n",
    "\n",
    "plt.title('Training and Validation Loss')\n",
    "plt.xlabel('Epochs')\n",
    "plt.ylabel('Loss Value')\n",
    "plt.legend()\n",
    "\n",
    "plt.show()"
   ]
  },
  {
   "cell_type": "code",
   "execution_count": 20,
   "metadata": {},
   "outputs": [
    {
     "data": {
      "image/png": "[encoded data removed]",
      "text/plain": [
       "<Figure size 432x288 with 1 Axes>"
      ]
     },
     "metadata": {
      "needs_background": "light"
     },
     "output_type": "display_data"
    }
   ],
   "source": [
    "# Training and Validation Accuracy\n",
    "\n",
    "acc_values = history_dict['accuracy']\n",
    "val_acc_values = history_dict['val_accuracy']\n",
    "\n",
    "epochs = range(1, len(loss_values) + 1)\n",
    "\n",
    "plt.plot(epochs, acc_values, 'ro', label=\"Training Accuracy\")\n",
    "plt.plot(epochs, val_acc_values, 'r', label=\"Validation Accuracy\")\n",
    "\n",
    "plt.title('Training and Validation Accuraccy')\n",
    "plt.xlabel('Epochs')\n",
    "plt.ylabel('Accuracy')\n",
    "plt.legend()\n",
    "\n",
    "plt.show()"
   ]
  },
  {
   "cell_type": "markdown",
   "metadata": {},
   "source": [
    "We observe that _minimum validation loss_ and _maximum validation Accuracy_ is achived at around 9-10 epochs. After that we observe 2 trends:\n",
    "* increase in validation loss and decrese in training loss\n",
    "* decrease in validation accuracy and increase in training accuracy\n",
    "\n",
    "This implies that the model is getting better at classifying the sentiment of the training data, but making consistently worse predictions when it encounters new, previously unseed data. This is the hallmark of _Overfitting_. After the 10th epoch the model begins to fit too closely to the trainning data.\n",
    "\n",
    "To address overfitting, we will reduce the number of epochs to 9. These results may vary depending on your machine and due to the very nature of the random assignment of weights that may vary from model to mode.\n",
    "\n",
    "In our case we will stop training after 9 epochs."
   ]
  },
  {
   "cell_type": "markdown",
   "metadata": {},
   "source": [
    "## Retraining the model from scratch"
   ]
  },
  {
   "cell_type": "code",
   "execution_count": 21,
   "metadata": {},
   "outputs": [
    {
     "name": "stdout",
     "output_type": "stream",
     "text": [
      "Epoch 1/9\n",
      "16/16 [==============================] - 1s 50ms/step - loss: 2.6164 - accuracy: 0.5335 - val_loss: 1.7389 - val_accuracy: 0.6350\n",
      "Epoch 2/9\n",
      "16/16 [==============================] - 1s 46ms/step - loss: 1.4390 - accuracy: 0.7020 - val_loss: 1.3235 - val_accuracy: 0.7120\n",
      "Epoch 3/9\n",
      "16/16 [==============================] - 1s 44ms/step - loss: 1.0720 - accuracy: 0.7686 - val_loss: 1.1556 - val_accuracy: 0.7500\n",
      "Epoch 4/9\n",
      "16/16 [==============================] - 1s 40ms/step - loss: 0.8502 - accuracy: 0.8192 - val_loss: 1.0815 - val_accuracy: 0.7570\n",
      "Epoch 5/9\n",
      "16/16 [==============================] - 1s 41ms/step - loss: 0.6842 - accuracy: 0.8505 - val_loss: 0.9838 - val_accuracy: 0.7920\n",
      "Epoch 6/9\n",
      "16/16 [==============================] - 1s 40ms/step - loss: 0.5511 - accuracy: 0.8796 - val_loss: 0.9427 - val_accuracy: 0.8040\n",
      "Epoch 7/9\n",
      "16/16 [==============================] - 1s 40ms/step - loss: 0.4401 - accuracy: 0.9069 - val_loss: 0.9202 - val_accuracy: 0.8090\n",
      "Epoch 8/9\n",
      "16/16 [==============================] - 1s 36ms/step - loss: 0.3571 - accuracy: 0.9253 - val_loss: 0.9246 - val_accuracy: 0.8060\n",
      "Epoch 9/9\n",
      "16/16 [==============================] - 1s 35ms/step - loss: 0.2973 - accuracy: 0.9364 - val_loss: 0.8962 - val_accuracy: 0.8250\n"
     ]
    },
    {
     "data": {
      "text/plain": [
       "<tensorflow.python.keras.callbacks.History at 0x7fb0fc58b250>"
      ]
     },
     "execution_count": 21,
     "metadata": {},
     "output_type": "execute_result"
    }
   ],
   "source": [
    "# Model definition\n",
    "model = models.Sequential()\n",
    "model.add(layers.Dense(64, activation='relu', input_shape=(10000, )))\n",
    "model.add(layers.Dense(64, activation='relu'))\n",
    "model.add(layers.Dense(46, activation='softmax'))\n",
    "\n",
    "# Model Compilation\n",
    "model.compile(optimizer = 'rmsprop',\n",
    "             loss = 'categorical_crossentropy',\n",
    "             metrics = ['accuracy'])\n",
    "\n",
    "# Training the model\n",
    "model.fit(partial_X_train,\n",
    "         partial_Y_train,\n",
    "         epochs=9,\n",
    "         batch_size=512,\n",
    "         validation_data=(X_val, Y_val))"
   ]
  },
  {
   "cell_type": "markdown",
   "metadata": {},
   "source": [
    "## Predicting results and evaluation"
   ]
  },
  {
   "cell_type": "code",
   "execution_count": 22,
   "metadata": {},
   "outputs": [
    {
     "name": "stdout",
     "output_type": "stream",
     "text": [
      "71/71 [==============================] - 1s 13ms/step - loss: 0.9830 - accuracy: 0.7845\n"
     ]
    }
   ],
   "source": [
    "results = model.evaluate(X_test, Y_test)"
   ]
  },
  {
   "cell_type": "code",
   "execution_count": 23,
   "metadata": {},
   "outputs": [
    {
     "data": {
      "text/plain": [
       "[0.9829719066619873, 0.7845057845115662]"
      ]
     },
     "execution_count": 23,
     "metadata": {},
     "output_type": "execute_result"
    }
   ],
   "source": [
    "results"
   ]
  },
  {
   "cell_type": "markdown",
   "metadata": {},
   "source": [
    "Our approaches reaches an efficieny of ~80%"
   ]
  },
  {
   "cell_type": "markdown",
   "metadata": {},
   "source": [
    "If this were a balanced dataset, a random attribution of labels would, using simple probability, result in 50% accuracy. But since, this dataset is not balanced the accuracy of a random classifier might be on the lesser side.\n",
    "\n",
    "Let's determine this random baseline:"
   ]
  },
  {
   "cell_type": "code",
   "execution_count": 25,
   "metadata": {},
   "outputs": [
    {
     "data": {
      "text/plain": [
       "0.18432769367764915"
      ]
     },
     "execution_count": 25,
     "metadata": {},
     "output_type": "execute_result"
    }
   ],
   "source": [
    "import copy\n",
    "test_labels_copy = copy.copy(test_labels)\n",
    "np.random.shuffle(test_labels_copy)\n",
    "\n",
    "#  Number of accurate predictions, matches, or hits\n",
    "hits = np.array(test_labels) == np.array(test_labels_copy)\n",
    "\n",
    "random_baseline = float(np.sum(hits)) / len(test_labels)\n",
    "random_baseline"
   ]
  },
  {
   "cell_type": "markdown",
   "metadata": {},
   "source": [
    "Considering that the random baseline is about 19%, our model with an accuracy of ~80% performs quite well. "
   ]
  },
  {
   "cell_type": "markdown",
   "metadata": {},
   "source": [
    "## Model with information bottleneck"
   ]
  },
  {
   "cell_type": "code",
   "execution_count": 26,
   "metadata": {},
   "outputs": [
    {
     "name": "stdout",
     "output_type": "stream",
     "text": [
      "Epoch 1/20\n",
      "63/63 [==============================] - 1s 22ms/step - loss: 2.6864 - accuracy: 0.4622 - val_loss: 2.0200 - val_accuracy: 0.5700\n",
      "Epoch 2/20\n",
      "63/63 [==============================] - 1s 16ms/step - loss: 1.7919 - accuracy: 0.5821 - val_loss: 1.6724 - val_accuracy: 0.5800\n",
      "Epoch 3/20\n",
      "63/63 [==============================] - 1s 18ms/step - loss: 1.5013 - accuracy: 0.6012 - val_loss: 1.5276 - val_accuracy: 0.6070\n",
      "Epoch 4/20\n",
      "63/63 [==============================] - 1s 17ms/step - loss: 1.3307 - accuracy: 0.6426 - val_loss: 1.4420 - val_accuracy: 0.6450\n",
      "Epoch 5/20\n",
      "63/63 [==============================] - 1s 23ms/step - loss: 1.1706 - accuracy: 0.6867 - val_loss: 1.3445 - val_accuracy: 0.6620\n",
      "Epoch 6/20\n",
      "63/63 [==============================] - 1s 18ms/step - loss: 1.0484 - accuracy: 0.7045 - val_loss: 1.3438 - val_accuracy: 0.6590\n",
      "Epoch 7/20\n",
      "63/63 [==============================] - 1s 23ms/step - loss: 0.9539 - accuracy: 0.7293 - val_loss: 1.3161 - val_accuracy: 0.6830\n",
      "Epoch 8/20\n",
      "63/63 [==============================] - 1s 18ms/step - loss: 0.8736 - accuracy: 0.7529 - val_loss: 1.3249 - val_accuracy: 0.6950\n",
      "Epoch 9/20\n",
      "63/63 [==============================] - 1s 17ms/step - loss: 0.8032 - accuracy: 0.7775 - val_loss: 1.3231 - val_accuracy: 0.7050\n",
      "Epoch 10/20\n",
      "63/63 [==============================] - 1s 16ms/step - loss: 0.7414 - accuracy: 0.8008 - val_loss: 1.3608 - val_accuracy: 0.7100\n",
      "Epoch 11/20\n",
      "63/63 [==============================] - 1s 17ms/step - loss: 0.6835 - accuracy: 0.8138 - val_loss: 1.3755 - val_accuracy: 0.7180\n",
      "Epoch 12/20\n",
      "63/63 [==============================] - 1s 19ms/step - loss: 0.6422 - accuracy: 0.8218 - val_loss: 1.4331 - val_accuracy: 0.7150\n",
      "Epoch 13/20\n",
      "63/63 [==============================] - 1s 18ms/step - loss: 0.6028 - accuracy: 0.8316 - val_loss: 1.4485 - val_accuracy: 0.7170\n",
      "Epoch 14/20\n",
      "63/63 [==============================] - 1s 19ms/step - loss: 0.5693 - accuracy: 0.8426 - val_loss: 1.4870 - val_accuracy: 0.7180\n",
      "Epoch 15/20\n",
      "63/63 [==============================] - 1s 19ms/step - loss: 0.5359 - accuracy: 0.8555 - val_loss: 1.5613 - val_accuracy: 0.7140\n",
      "Epoch 16/20\n",
      "63/63 [==============================] - 1s 21ms/step - loss: 0.5124 - accuracy: 0.8628 - val_loss: 1.6172 - val_accuracy: 0.7120\n",
      "Epoch 17/20\n",
      "63/63 [==============================] - 1s 21ms/step - loss: 0.4848 - accuracy: 0.8708 - val_loss: 1.6723 - val_accuracy: 0.7070\n",
      "Epoch 18/20\n",
      "63/63 [==============================] - 2s 26ms/step - loss: 0.4673 - accuracy: 0.8760 - val_loss: 1.7235 - val_accuracy: 0.7070\n",
      "Epoch 19/20\n",
      "63/63 [==============================] - 1s 18ms/step - loss: 0.4470 - accuracy: 0.8801 - val_loss: 1.7827 - val_accuracy: 0.7090\n",
      "Epoch 20/20\n",
      "63/63 [==============================] - 1s 20ms/step - loss: 0.4294 - accuracy: 0.8865 - val_loss: 1.8424 - val_accuracy: 0.7060\n"
     ]
    },
    {
     "data": {
      "text/plain": [
       "<tensorflow.python.keras.callbacks.History at 0x7fb0a8389a50>"
      ]
     },
     "execution_count": 26,
     "metadata": {},
     "output_type": "execute_result"
    }
   ],
   "source": [
    "model = models.Sequential()\n",
    "model.add(layers.Dense(64, activation='relu', input_shape=(10000,)))\n",
    "model.add(layers.Dense(4, activation='relu'))\n",
    "model.add(layers.Dense(46, activation='softmax'))\n",
    "\n",
    "model.compile(optimizer='rmsprop',\n",
    "              loss='categorical_crossentropy',\n",
    "              metrics=['accuracy'])\n",
    "\n",
    "model.fit(partial_X_train,\n",
    "          partial_Y_train,\n",
    "          epochs=20,\n",
    "          batch_size=128,\n",
    "          validation_data=(X_val, Y_val))"
   ]
  },
  {
   "cell_type": "code",
   "execution_count": 27,
   "metadata": {},
   "outputs": [
    {
     "name": "stdout",
     "output_type": "stream",
     "text": [
      "71/71 [==============================] - 1s 12ms/step - loss: 2.2367 - accuracy: 0.6834\n"
     ]
    }
   ],
   "source": [
    "results = model.evaluate(X_test, Y_test)"
   ]
  },
  {
   "cell_type": "markdown",
   "metadata": {},
   "source": [
    "In the presence of a bottleneck, the testing accuracy drops 10%"
   ]
  }
 ],
 "metadata": {
  "kernelspec": {
   "display_name": "Python 3",
   "language": "python",
   "name": "python3"
  },
  "language_info": {
   "codemirror_mode": {
    "name": "ipython",
    "version": 3
   },
   "file_extension": ".py",
   "mimetype": "text/x-python",
   "name": "python",
   "nbconvert_exporter": "python",
   "pygments_lexer": "ipython3",
   "version": "3.7.6"
  }
 },
 "nbformat": 4,
 "nbformat_minor": 4
}
