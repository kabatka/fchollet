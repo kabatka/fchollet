{
  "nbformat": 4,
  "nbformat_minor": 0,
  "metadata": {
    "kernelspec": {
      "display_name": "Python 3",
      "language": "python",
      "name": "python3"
    },
    "language_info": {
      "codemirror_mode": {
        "name": "ipython",
        "version": 3
      },
      "file_extension": ".py",
      "mimetype": "text/x-python",
      "name": "python",
      "nbconvert_exporter": "python",
      "pygments_lexer": "ipython3",
      "version": "3.7.6"
    },
    "colab": {
      "name": "Binary Classification - IMDB movie reviews.ipynb",
      "provenance": [],
      "include_colab_link": true
    },
    "accelerator": "GPU"
  },
  "cells": [
    {
      "cell_type": "markdown",
      "metadata": {
        "id": "view-in-github",
        "colab_type": "text"
      },
      "source": [
        "<a href=\"https://colab.research.google.com/github/rakshitraj/fchollet/blob/master/Binary_Classification_IMDB_movie_reviews.ipynb\" target=\"_parent\"><img src=\"https://colab.research.google.com/assets/colab-badge.svg\" alt=\"Open In Colab\"/></a>"
      ]
    },
    {
      "cell_type": "markdown",
      "metadata": {
        "id": "XzZI58Y6du6t",
        "colab_type": "text"
      },
      "source": [
        "# Classifying movie reviews: a binary classification example\n",
        "\n",
        "Design a neural network to perform two-class classification or _binary classification_ , of reviews form IMDB movie reviews dataset, to determine wether the reviews are positive or negative. We will use the Python library Keras to perform the classification"
      ]
    },
    {
      "cell_type": "markdown",
      "metadata": {
        "id": "9uuR7KW-du6u",
        "colab_type": "text"
      },
      "source": [
        "## Problem Statement\n",
        "\n",
        "Given a review, find the probability of it being a positive review or a negative review using deep neural networks."
      ]
    },
    {
      "cell_type": "markdown",
      "metadata": {
        "id": "ZDcFR-q3du6u",
        "colab_type": "text"
      },
      "source": [
        "## The IMDB Dataset\n",
        "\n",
        "The IMDB dataset is a set of 50,000 highly polarized reviews from the Internet Movie Database. They are split into 25000 reviews each for training and testing. Each set contains equal number (50%) of positive and negative reviews.\n",
        "\n",
        "The IMDB dataset comes packaged with Keras. It consists of reviews and their corresponding labels (0 for _negative_ and 1 for _positive_ review). The reviews are a sequence of words. They come preprocessed as sequence of integers, where each integer stands for a specific word in the dictionary.\n",
        "\n",
        "The IMDB datset can be loaded directly from Keras and will usually download about 80 MB on your machine. "
      ]
    },
    {
      "cell_type": "markdown",
      "metadata": {
        "id": "op3Sb6oWdu6v",
        "colab_type": "text"
      },
      "source": [
        "## Loading the Data"
      ]
    },
    {
      "cell_type": "code",
      "metadata": {
        "id": "AIxphGHVdu6w",
        "colab_type": "code",
        "colab": {
          "base_uri": "https://localhost:8080/",
          "height": 71
        },
        "outputId": "4b0b4926-11d2-4180-f81a-1f22ed5228bd"
      },
      "source": [
        "from keras.datasets import imdb\n",
        "\n",
        "# Load the data, keeping only 10,000 of the most frequently occuring words\n",
        "(train_data, train_labels), (test_data, test_labels) = imdb.load_data(num_words = 10000)"
      ],
      "execution_count": 1,
      "outputs": [
        {
          "output_type": "stream",
          "text": [
            "Using TensorFlow backend.\n"
          ],
          "name": "stderr"
        },
        {
          "output_type": "stream",
          "text": [
            "Downloading data from https://s3.amazonaws.com/text-datasets/imdb.npz\n",
            "17465344/17464789 [==============================] - 1s 0us/step\n"
          ],
          "name": "stdout"
        }
      ]
    },
    {
      "cell_type": "code",
      "metadata": {
        "id": "OlO6lXj3du61",
        "colab_type": "code",
        "colab": {
          "base_uri": "https://localhost:8080/",
          "height": 1000
        },
        "outputId": "ea204a22-079d-41b2-f913-92a2219ec081"
      },
      "source": [
        "# Check the first review\n",
        "train_data[0]"
      ],
      "execution_count": 2,
      "outputs": [
        {
          "output_type": "execute_result",
          "data": {
            "text/plain": [
              "[1,\n",
              " 14,\n",
              " 22,\n",
              " 16,\n",
              " 43,\n",
              " 530,\n",
              " 973,\n",
              " 1622,\n",
              " 1385,\n",
              " 65,\n",
              " 458,\n",
              " 4468,\n",
              " 66,\n",
              " 3941,\n",
              " 4,\n",
              " 173,\n",
              " 36,\n",
              " 256,\n",
              " 5,\n",
              " 25,\n",
              " 100,\n",
              " 43,\n",
              " 838,\n",
              " 112,\n",
              " 50,\n",
              " 670,\n",
              " 2,\n",
              " 9,\n",
              " 35,\n",
              " 480,\n",
              " 284,\n",
              " 5,\n",
              " 150,\n",
              " 4,\n",
              " 172,\n",
              " 112,\n",
              " 167,\n",
              " 2,\n",
              " 336,\n",
              " 385,\n",
              " 39,\n",
              " 4,\n",
              " 172,\n",
              " 4536,\n",
              " 1111,\n",
              " 17,\n",
              " 546,\n",
              " 38,\n",
              " 13,\n",
              " 447,\n",
              " 4,\n",
              " 192,\n",
              " 50,\n",
              " 16,\n",
              " 6,\n",
              " 147,\n",
              " 2025,\n",
              " 19,\n",
              " 14,\n",
              " 22,\n",
              " 4,\n",
              " 1920,\n",
              " 4613,\n",
              " 469,\n",
              " 4,\n",
              " 22,\n",
              " 71,\n",
              " 87,\n",
              " 12,\n",
              " 16,\n",
              " 43,\n",
              " 530,\n",
              " 38,\n",
              " 76,\n",
              " 15,\n",
              " 13,\n",
              " 1247,\n",
              " 4,\n",
              " 22,\n",
              " 17,\n",
              " 515,\n",
              " 17,\n",
              " 12,\n",
              " 16,\n",
              " 626,\n",
              " 18,\n",
              " 2,\n",
              " 5,\n",
              " 62,\n",
              " 386,\n",
              " 12,\n",
              " 8,\n",
              " 316,\n",
              " 8,\n",
              " 106,\n",
              " 5,\n",
              " 4,\n",
              " 2223,\n",
              " 5244,\n",
              " 16,\n",
              " 480,\n",
              " 66,\n",
              " 3785,\n",
              " 33,\n",
              " 4,\n",
              " 130,\n",
              " 12,\n",
              " 16,\n",
              " 38,\n",
              " 619,\n",
              " 5,\n",
              " 25,\n",
              " 124,\n",
              " 51,\n",
              " 36,\n",
              " 135,\n",
              " 48,\n",
              " 25,\n",
              " 1415,\n",
              " 33,\n",
              " 6,\n",
              " 22,\n",
              " 12,\n",
              " 215,\n",
              " 28,\n",
              " 77,\n",
              " 52,\n",
              " 5,\n",
              " 14,\n",
              " 407,\n",
              " 16,\n",
              " 82,\n",
              " 2,\n",
              " 8,\n",
              " 4,\n",
              " 107,\n",
              " 117,\n",
              " 5952,\n",
              " 15,\n",
              " 256,\n",
              " 4,\n",
              " 2,\n",
              " 7,\n",
              " 3766,\n",
              " 5,\n",
              " 723,\n",
              " 36,\n",
              " 71,\n",
              " 43,\n",
              " 530,\n",
              " 476,\n",
              " 26,\n",
              " 400,\n",
              " 317,\n",
              " 46,\n",
              " 7,\n",
              " 4,\n",
              " 2,\n",
              " 1029,\n",
              " 13,\n",
              " 104,\n",
              " 88,\n",
              " 4,\n",
              " 381,\n",
              " 15,\n",
              " 297,\n",
              " 98,\n",
              " 32,\n",
              " 2071,\n",
              " 56,\n",
              " 26,\n",
              " 141,\n",
              " 6,\n",
              " 194,\n",
              " 7486,\n",
              " 18,\n",
              " 4,\n",
              " 226,\n",
              " 22,\n",
              " 21,\n",
              " 134,\n",
              " 476,\n",
              " 26,\n",
              " 480,\n",
              " 5,\n",
              " 144,\n",
              " 30,\n",
              " 5535,\n",
              " 18,\n",
              " 51,\n",
              " 36,\n",
              " 28,\n",
              " 224,\n",
              " 92,\n",
              " 25,\n",
              " 104,\n",
              " 4,\n",
              " 226,\n",
              " 65,\n",
              " 16,\n",
              " 38,\n",
              " 1334,\n",
              " 88,\n",
              " 12,\n",
              " 16,\n",
              " 283,\n",
              " 5,\n",
              " 16,\n",
              " 4472,\n",
              " 113,\n",
              " 103,\n",
              " 32,\n",
              " 15,\n",
              " 16,\n",
              " 5345,\n",
              " 19,\n",
              " 178,\n",
              " 32]"
            ]
          },
          "metadata": {
            "tags": []
          },
          "execution_count": 2
        }
      ]
    },
    {
      "cell_type": "code",
      "metadata": {
        "id": "4lhSHtJYdu67",
        "colab_type": "code",
        "colab": {
          "base_uri": "https://localhost:8080/",
          "height": 35
        },
        "outputId": "6c96c8a0-d85d-4be1-a5e4-512dbd68138a"
      },
      "source": [
        "# Check the first label\n",
        "train_labels[0]"
      ],
      "execution_count": 3,
      "outputs": [
        {
          "output_type": "execute_result",
          "data": {
            "text/plain": [
              "1"
            ]
          },
          "metadata": {
            "tags": []
          },
          "execution_count": 3
        }
      ]
    },
    {
      "cell_type": "code",
      "metadata": {
        "id": "oem7f6Prdu6_",
        "colab_type": "code",
        "colab": {
          "base_uri": "https://localhost:8080/",
          "height": 53
        },
        "outputId": "5a620294-1144-4b91-90d8-0d307d225f5b"
      },
      "source": [
        "# Since we restricted ourselves to the top 10000 frequent words, no word index should exceed 10000\n",
        "# we'll verify this below\n",
        "\n",
        "# Here is a list of maximum indexes in every review --- we search the maximum index in this list of max indexes\n",
        "print(type([max(sequence) for sequence in train_data]))\n",
        "\n",
        "# Find the maximum of all max indexes\n",
        "max([max(sequence) for sequence in train_data])"
      ],
      "execution_count": 4,
      "outputs": [
        {
          "output_type": "stream",
          "text": [
            "<class 'list'>\n"
          ],
          "name": "stdout"
        },
        {
          "output_type": "execute_result",
          "data": {
            "text/plain": [
              "9999"
            ]
          },
          "metadata": {
            "tags": []
          },
          "execution_count": 4
        }
      ]
    },
    {
      "cell_type": "code",
      "metadata": {
        "id": "ElskLrMFdu7D",
        "colab_type": "code",
        "colab": {
          "base_uri": "https://localhost:8080/",
          "height": 161
        },
        "outputId": "3812a45f-2599-4d44-a8d3-523282fbaaf5"
      },
      "source": [
        "# Let's quickly decode a review\n",
        "\n",
        "# step 1: load the dictionary mappings from word to integer index\n",
        "word_index = imdb.get_word_index()\n",
        "\n",
        "# step 2: reverse word index to map integer indexes to their respective words\n",
        "reverse_word_index = dict([(value, key) for (key, value) in word_index.items()])\n",
        "\n",
        "# Step 3: decode the review, mapping integer indices to words\n",
        "#\n",
        "# indices are off by 3 because 0, 1, and 2 are reserverd indices for \"padding\", \"Start of sequence\" and \"unknown\"\n",
        "decoded_review = ' '.join([reverse_word_index.get(i-3, '?') for i in train_data[0]])\n",
        "\n",
        "decoded_review"
      ],
      "execution_count": 5,
      "outputs": [
        {
          "output_type": "stream",
          "text": [
            "Downloading data from https://s3.amazonaws.com/text-datasets/imdb_word_index.json\n",
            "1646592/1641221 [==============================] - 1s 0us/step\n"
          ],
          "name": "stdout"
        },
        {
          "output_type": "execute_result",
          "data": {
            "application/vnd.google.colaboratory.intrinsic": {
              "type": "string"
            },
            "text/plain": [
              "\"? this film was just brilliant casting location scenery story direction everyone's really suited the part they played and you could just imagine being there robert ? is an amazing actor and now the same being director ? father came from the same scottish island as myself so i loved the fact there was a real connection with this film the witty remarks throughout the film were great it was just brilliant so much that i bought the film as soon as it was released for ? and would recommend it to everyone to watch and the fly fishing was amazing really cried at the end it was so sad and you know what they say if you cry at a film it must have been good and this definitely was also ? to the two little boy's that played the ? of norman and paul they were just brilliant children are often left out of the ? list i think because the stars that play them all grown up are such a big profile for the whole film but these children are amazing and should be praised for what they have done don't you think the whole story was so lovely because it was true and was someone's life after all that was shared with us all\""
            ]
          },
          "metadata": {
            "tags": []
          },
          "execution_count": 5
        }
      ]
    },
    {
      "cell_type": "code",
      "metadata": {
        "id": "VH77j5godu7I",
        "colab_type": "code",
        "colab": {
          "base_uri": "https://localhost:8080/",
          "height": 35
        },
        "outputId": "5c6ad7df-0979-4b22-e871-51e5047ab71f"
      },
      "source": [
        "len(reverse_word_index)"
      ],
      "execution_count": 6,
      "outputs": [
        {
          "output_type": "execute_result",
          "data": {
            "text/plain": [
              "88584"
            ]
          },
          "metadata": {
            "tags": []
          },
          "execution_count": 6
        }
      ]
    },
    {
      "cell_type": "markdown",
      "metadata": {
        "id": "qzc4UFV1du7N",
        "colab_type": "text"
      },
      "source": [
        "## Preparing the data"
      ]
    },
    {
      "cell_type": "markdown",
      "metadata": {
        "id": "XMLKLACQdu7P",
        "colab_type": "text"
      },
      "source": [
        "### Vectorize input data"
      ]
    },
    {
      "cell_type": "markdown",
      "metadata": {
        "id": "s_rO4ub5du7Q",
        "colab_type": "text"
      },
      "source": [
        "We cannot feed list of integers into our deep neural network. We will need to convert them into tensors.\n",
        "\n",
        "To prepare our data we will One-hot Encode our lists and turn them into vectors of 0's and 1's. This would blow up all of our sequences into 10,000 dimensional vectors containing 1 at all indices corresponding to integers present in that sequence. This vector will have the element 0 at all indices which are not present in integer sequence.\n",
        "\n",
        "Simply put, the 10,000 dimensional vector corresponding to each review, will have\n",
        "\n",
        "* Every index corresponding to a word\n",
        "* Every index vith value 1, is a word which is present in the review and is denoted by its integer counterpart\n",
        "* Every index containing 0, is a word not present in the review\n",
        "\n",
        "We will vectorize our data manually for maximum clarity. This will result in a tensors of shape (25000, 10000). "
      ]
    },
    {
      "cell_type": "code",
      "metadata": {
        "id": "ys1Q2fIUdu7R",
        "colab_type": "code",
        "colab": {}
      },
      "source": [
        "import numpy as np\n",
        "\n",
        "def vectorize_sequences(sequences, dimension=10000):\n",
        "    results = np.zeros((len(sequences), dimension))    # Creates an all zero matrix of shape (len(sequences),10K)\n",
        "    for i,sequence in enumerate(sequences):\n",
        "        results[i,sequence] = 1                        # Sets specific indices of results[i] to 1s\n",
        "    return results\n",
        "\n",
        "# Vectorize training Data\n",
        "X_train = vectorize_sequences(train_data)\n",
        "\n",
        "# Vectorize testing Data\n",
        "X_test = vectorize_sequences(test_data)"
      ],
      "execution_count": 7,
      "outputs": []
    },
    {
      "cell_type": "code",
      "metadata": {
        "id": "_shJBamzdu7U",
        "colab_type": "code",
        "colab": {
          "base_uri": "https://localhost:8080/",
          "height": 35
        },
        "outputId": "defcf845-cd21-43ef-d765-a8db8985e575"
      },
      "source": [
        "X_train[0]"
      ],
      "execution_count": 8,
      "outputs": [
        {
          "output_type": "execute_result",
          "data": {
            "text/plain": [
              "array([0., 1., 1., ..., 0., 0., 0.])"
            ]
          },
          "metadata": {
            "tags": []
          },
          "execution_count": 8
        }
      ]
    },
    {
      "cell_type": "code",
      "metadata": {
        "id": "C39DCCyfdu7a",
        "colab_type": "code",
        "colab": {
          "base_uri": "https://localhost:8080/",
          "height": 35
        },
        "outputId": "25c8c355-5efb-41b0-d87c-03bd889d841e"
      },
      "source": [
        "X_train.shape"
      ],
      "execution_count": 9,
      "outputs": [
        {
          "output_type": "execute_result",
          "data": {
            "text/plain": [
              "(25000, 10000)"
            ]
          },
          "metadata": {
            "tags": []
          },
          "execution_count": 9
        }
      ]
    },
    {
      "cell_type": "markdown",
      "metadata": {
        "id": "OreK_Ojbdu7e",
        "colab_type": "text"
      },
      "source": [
        "### Vectorize labels"
      ]
    },
    {
      "cell_type": "code",
      "metadata": {
        "id": "RUpqYMOjdu7f",
        "colab_type": "code",
        "colab": {}
      },
      "source": [
        "y_train = np.asarray(train_labels).astype('float32')\n",
        "y_test  = np.asarray(test_labels).astype('float32')"
      ],
      "execution_count": 10,
      "outputs": []
    },
    {
      "cell_type": "markdown",
      "metadata": {
        "id": "jMjYmyundu7j",
        "colab_type": "text"
      },
      "source": [
        "## Building the network"
      ]
    },
    {
      "cell_type": "markdown",
      "metadata": {
        "id": "SO_EI5bndu7k",
        "colab_type": "text"
      },
      "source": [
        "Our input data is vectors which needs to be mapped to scaler labels (0s and 1s). This is one of the easiest setups and a simple stack of _fully-connected_, _Dense_ layers with _relu_ activation perform quite well.\n",
        "\n",
        "### Hidden layers\n",
        "\n",
        "In this network we will leverage _hidden layers_. we will define our layers as such.\n",
        "\n",
        "```python\n",
        "Dense(16, activation='relu')\n",
        "```\n",
        "The argument being passed to each `Dense` layer, `(16)` is the number of _hidden units_ of a layer.\n",
        "\n",
        "The output from a _Dense_ layer with _relu_ activation is genrated after a chain of _tensor_ operations. This chain of operations is implemented as\n",
        "\n",
        "    output = relu(dot(W, input) + b)\n",
        "Where, `W` is the _Weight matrix_ and `b` is the bias (tensor).\n",
        "\n",
        "Having 16 hidden units means that the matrix W will be of the shape ( _input_Dimension_ , _16_ ). In this case where the dimension of input vector is 10,000; the shape of Weight matrix will be (10000, 16). If you were to represent this network as graph you would see 16 neurons in this hidden layer.\n",
        "\n",
        "To put in in laymans terms, there will be 16 balls in this layer.\n",
        "\n",
        "Each of these balls, or _hidden units_ is a dimension in the representation space of the layer. Representaion space is the set of all viable representaions for the data. Every _hidden layer_ composed of its _hidden units_ aims to learns one specific transformation of the data, or one feature/pattern from the data. \n",
        "\n",
        "Hidden layers, simply put, are layers of mathematical functions each designed to produce an output specific to an intended result. Hidden layers allow for the function of a neural network to be broken down into specific transformations of the data. Each hidden layer function is specialized to produce a defined output.For example, a hidden layer functions that are used to identify human eyes and ears may be used in conjunction by subsequent layers to identify faces in images. While the functions to identify eyes alone are not enough to independently recognize objects, they can function jointly within a neural network.\n",
        "\n"
      ]
    },
    {
      "cell_type": "markdown",
      "metadata": {
        "id": "Ww98WXXddu7m",
        "colab_type": "text"
      },
      "source": [
        "### Model Architecture\n",
        "\n",
        "1. For our model we will use\n",
        "   * two intermediate layers with 16 hidden units each\n",
        "   * Third layer that will output the scalar sentiment prediction\n",
        "   \n",
        "\n",
        "2. Intermediate layers will use _relu_ activation function. _relu_ or Rectified linear unit function will zero out the negative values.\n",
        "\n",
        "\n",
        "3. Sigmoid activation for the final layer or _output layer_. A sigmoid function \"_squashes_\" arbitary values into the [0,1] range.\n",
        "\n",
        "\n",
        "There are formal principles that guide our appraoch in selecting the architectural attributes of a model. These are not covered in this case study."
      ]
    },
    {
      "cell_type": "markdown",
      "metadata": {
        "id": "1iaZpD9Pdu7n",
        "colab_type": "text"
      },
      "source": [
        "### Model defination"
      ]
    },
    {
      "cell_type": "code",
      "metadata": {
        "id": "RPXiJDPydu7o",
        "colab_type": "code",
        "colab": {}
      },
      "source": [
        "from keras import models\n",
        "from keras import layers\n",
        "\n",
        "model = models.Sequential()\n",
        "model.add(layers.Dense(16, activation='relu', input_shape=(10000,)))\n",
        "model.add(layers.Dense(16, activation='relu'))\n",
        "model.add(layers.Dense(1, activation='sigmoid'))"
      ],
      "execution_count": 11,
      "outputs": []
    },
    {
      "cell_type": "markdown",
      "metadata": {
        "id": "jA0xRJPTdu7s",
        "colab_type": "text"
      },
      "source": [
        "## Compiling the model"
      ]
    },
    {
      "cell_type": "markdown",
      "metadata": {
        "id": "k-Xez08Adu7t",
        "colab_type": "text"
      },
      "source": [
        "In this step we will choose an _optimizer_, a _loss function_, and metrics to observe. We will go forward with\n",
        "* _binary_crossentropy_ loss function, commonlu used for Binary Classification\n",
        "* _rmsprop_ optimizer and\n",
        "* _accuracy_ as a measure of performance\n",
        "\n",
        "We can pass our choices for optimizer, loss function and metrics as _strings_ to the `compile` function because `rmsprop`, `binary_crossentropy` and `accuracy` come packaged with Keras.\n",
        "\n",
        "```python\n",
        "model.complie(optimizer='rmsprop',\n",
        "              loss = 'binary_crossentropy',\n",
        "              metrics = ['accuracy'])\n",
        "```\n",
        "\n",
        "One could use a customized loss function or ortimizer by passing the custom _class instance_ as argument to the `loss`, `optimizer` or `mertics` fields.\n",
        "\n",
        "In this example, we will implement our default choices, but, we will do so by passing class instances. This is exactly how we would do it, if we had customized parameters."
      ]
    },
    {
      "cell_type": "code",
      "metadata": {
        "id": "cyfNbL3jdu7u",
        "colab_type": "code",
        "colab": {}
      },
      "source": [
        "from keras import optimizers\n",
        "from keras import losses\n",
        "from keras import metrics\n",
        "\n",
        "model.compile(optimizer=optimizers.RMSprop(lr=0.001),\n",
        "              loss = losses.binary_crossentropy,\n",
        "              metrics = [metrics.binary_accuracy])\n"
      ],
      "execution_count": 12,
      "outputs": []
    },
    {
      "cell_type": "markdown",
      "metadata": {
        "id": "rxdDzhKidu7x",
        "colab_type": "text"
      },
      "source": [
        "## Setting up Validation \n",
        "\n",
        "We will set aside a part of our training data for _validation_ of the accuracy of the model as it trains. A _validation set_ enables us to monitor the progress of our model on previously unseen data as it goes throug epochs during training. \n",
        "\n",
        "Validation steps help us fine tune the training parameters of the `model.fit` function so as to avoid overfitting and under fitting of data."
      ]
    },
    {
      "cell_type": "code",
      "metadata": {
        "id": "ufYNs9ZXdu7y",
        "colab_type": "code",
        "colab": {}
      },
      "source": [
        "# Input for Validation\n",
        "X_val = X_train[:10000]\n",
        "partial_X_train = X_train[10000:]\n",
        "\n",
        "# Labels for validation\n",
        "y_val = y_train[:10000]\n",
        "partial_y_train = y_train[10000:]"
      ],
      "execution_count": 13,
      "outputs": []
    },
    {
      "cell_type": "markdown",
      "metadata": {
        "id": "dmAjRo4tdu73",
        "colab_type": "text"
      },
      "source": [
        "# Training our model"
      ]
    },
    {
      "cell_type": "markdown",
      "metadata": {
        "id": "mu-Qz-f6du74",
        "colab_type": "text"
      },
      "source": [
        "Initially, we will train our models for 20 epochs in mini-batches of 512 samples. We will aslo pass our _validation set_ to the `fit` method. \n",
        "\n",
        "Calling the `fit` method returns a `History` object. This object contains a member `history` which stores all data  about the training process including the values of observable or monitored quantaties as the epochs proceed. We will save this object to better determine the fine tuning to be applied to the training step."
      ]
    },
    {
      "cell_type": "code",
      "metadata": {
        "id": "1A-l2d6Mdu75",
        "colab_type": "code",
        "colab": {
          "base_uri": "https://localhost:8080/",
          "height": 750
        },
        "outputId": "714fd370-2ed3-42c2-cef9-b935ce92b149"
      },
      "source": [
        "history = model.fit(partial_X_train,\n",
        "                   partial_y_train,\n",
        "                   epochs=20,\n",
        "                   batch_size=512,\n",
        "                   validation_data=(X_val, y_val))"
      ],
      "execution_count": 14,
      "outputs": [
        {
          "output_type": "stream",
          "text": [
            "Train on 15000 samples, validate on 10000 samples\n",
            "Epoch 1/20\n",
            "15000/15000 [==============================] - 3s 183us/step - loss: 0.5728 - binary_accuracy: 0.7215 - val_loss: 0.4574 - val_binary_accuracy: 0.8590\n",
            "Epoch 2/20\n",
            "15000/15000 [==============================] - 1s 71us/step - loss: 0.3637 - binary_accuracy: 0.8954 - val_loss: 0.3351 - val_binary_accuracy: 0.8841\n",
            "Epoch 3/20\n",
            "15000/15000 [==============================] - 1s 71us/step - loss: 0.2481 - binary_accuracy: 0.9241 - val_loss: 0.2935 - val_binary_accuracy: 0.8878\n",
            "Epoch 4/20\n",
            "15000/15000 [==============================] - 1s 71us/step - loss: 0.1878 - binary_accuracy: 0.9435 - val_loss: 0.2797 - val_binary_accuracy: 0.8887\n",
            "Epoch 5/20\n",
            "15000/15000 [==============================] - 1s 72us/step - loss: 0.1524 - binary_accuracy: 0.9541 - val_loss: 0.3130 - val_binary_accuracy: 0.8747\n",
            "Epoch 6/20\n",
            "15000/15000 [==============================] - 1s 71us/step - loss: 0.1243 - binary_accuracy: 0.9630 - val_loss: 0.2937 - val_binary_accuracy: 0.8817\n",
            "Epoch 7/20\n",
            "15000/15000 [==============================] - 1s 71us/step - loss: 0.1033 - binary_accuracy: 0.9706 - val_loss: 0.3067 - val_binary_accuracy: 0.8822\n",
            "Epoch 8/20\n",
            "15000/15000 [==============================] - 1s 72us/step - loss: 0.0872 - binary_accuracy: 0.9752 - val_loss: 0.3312 - val_binary_accuracy: 0.8785\n",
            "Epoch 9/20\n",
            "15000/15000 [==============================] - 1s 72us/step - loss: 0.0696 - binary_accuracy: 0.9829 - val_loss: 0.3555 - val_binary_accuracy: 0.8751\n",
            "Epoch 10/20\n",
            "15000/15000 [==============================] - 1s 71us/step - loss: 0.0582 - binary_accuracy: 0.9858 - val_loss: 0.3713 - val_binary_accuracy: 0.8788\n",
            "Epoch 11/20\n",
            "15000/15000 [==============================] - 1s 72us/step - loss: 0.0472 - binary_accuracy: 0.9891 - val_loss: 0.4008 - val_binary_accuracy: 0.8782\n",
            "Epoch 12/20\n",
            "15000/15000 [==============================] - 1s 72us/step - loss: 0.0375 - binary_accuracy: 0.9933 - val_loss: 0.4301 - val_binary_accuracy: 0.8761\n",
            "Epoch 13/20\n",
            "15000/15000 [==============================] - 1s 70us/step - loss: 0.0307 - binary_accuracy: 0.9941 - val_loss: 0.4615 - val_binary_accuracy: 0.8748\n",
            "Epoch 14/20\n",
            "15000/15000 [==============================] - 1s 71us/step - loss: 0.0241 - binary_accuracy: 0.9958 - val_loss: 0.4895 - val_binary_accuracy: 0.8728\n",
            "Epoch 15/20\n",
            "15000/15000 [==============================] - 1s 71us/step - loss: 0.0217 - binary_accuracy: 0.9964 - val_loss: 0.5273 - val_binary_accuracy: 0.8713\n",
            "Epoch 16/20\n",
            "15000/15000 [==============================] - 1s 70us/step - loss: 0.0134 - binary_accuracy: 0.9983 - val_loss: 0.7908 - val_binary_accuracy: 0.8464\n",
            "Epoch 17/20\n",
            "15000/15000 [==============================] - 1s 71us/step - loss: 0.0106 - binary_accuracy: 0.9988 - val_loss: 0.6069 - val_binary_accuracy: 0.8705\n",
            "Epoch 18/20\n",
            "15000/15000 [==============================] - 1s 70us/step - loss: 0.0101 - binary_accuracy: 0.9989 - val_loss: 0.6175 - val_binary_accuracy: 0.8673\n",
            "Epoch 19/20\n",
            "15000/15000 [==============================] - 1s 71us/step - loss: 0.0080 - binary_accuracy: 0.9987 - val_loss: 0.6619 - val_binary_accuracy: 0.8681\n",
            "Epoch 20/20\n",
            "15000/15000 [==============================] - 1s 74us/step - loss: 0.0041 - binary_accuracy: 0.9997 - val_loss: 0.7036 - val_binary_accuracy: 0.8669\n"
          ],
          "name": "stdout"
        }
      ]
    },
    {
      "cell_type": "markdown",
      "metadata": {
        "id": "jDJSkdO4du79",
        "colab_type": "text"
      },
      "source": [
        "At the end of training we have attained a training accuracy of 99.85% and validation accuracy of 86.57%\n",
        "\n",
        "Now that we have trained our network, we will observe its performance metrics stored in the `History` object.\n",
        "\n",
        "Calling the `fit` method returns a `History` object. This object has an sttribute `history` which is a dictionary containing four enteries: one per monitored metric."
      ]
    },
    {
      "cell_type": "code",
      "metadata": {
        "id": "eWBbfPAWdu7-",
        "colab_type": "code",
        "colab": {
          "base_uri": "https://localhost:8080/",
          "height": 35
        },
        "outputId": "0e46991d-3d36-44ef-97fc-2f9eac223a74"
      },
      "source": [
        "history_dict = history.history\n",
        "history_dict.keys()"
      ],
      "execution_count": 15,
      "outputs": [
        {
          "output_type": "execute_result",
          "data": {
            "text/plain": [
              "dict_keys(['val_loss', 'val_binary_accuracy', 'loss', 'binary_accuracy'])"
            ]
          },
          "metadata": {
            "tags": []
          },
          "execution_count": 15
        }
      ]
    },
    {
      "cell_type": "markdown",
      "metadata": {
        "id": "a2R_IzGzdu8D",
        "colab_type": "text"
      },
      "source": [
        "`history_dict` contains values of \n",
        "* Training loss\n",
        "* Trainining Accuracy\n",
        "* Validation Loss\n",
        "* Validation Accuracy\n",
        "\n",
        "at the end of each epoch.\n",
        "\n",
        "Let's use Matplotlib to plot Training and validation losses and Traing and Validation Accuracy side by side."
      ]
    },
    {
      "cell_type": "code",
      "metadata": {
        "id": "aCAdPIRmdu8D",
        "colab_type": "code",
        "colab": {}
      },
      "source": [
        "import matplotlib.pyplot as plt\n",
        "%matplotlib inline"
      ],
      "execution_count": 16,
      "outputs": []
    },
    {
      "cell_type": "code",
      "metadata": {
        "id": "yG0G38dCdu8G",
        "colab_type": "code",
        "colab": {
          "base_uri": "https://localhost:8080/",
          "height": 295
        },
        "outputId": "cfcfd08a-3c6c-495c-aa43-2759712e6a14"
      },
      "source": [
        "# Plotting losses\n",
        "loss_values = history_dict['loss']\n",
        "val_loss_values = history_dict['val_loss']\n",
        "\n",
        "epochs = range(1, len(loss_values) + 1)\n",
        "\n",
        "plt.plot(epochs, loss_values, 'bo', label=\"Training Loss\")\n",
        "plt.plot(epochs, val_loss_values, 'b', label=\"Validation Loss\")\n",
        "\n",
        "plt.title('Training and Validation Loss')\n",
        "plt.xlabel('Epochs')\n",
        "plt.ylabel('Loss Value')\n",
        "plt.legend()\n",
        "\n",
        "plt.show()"
      ],
      "execution_count": 17,
      "outputs": [
        {
          "output_type": "display_data",
          "data": {
            "image/png": "[encoded data removed]",
            "text/plain": [
              "<Figure size 432x288 with 1 Axes>"
            ]
          },
          "metadata": {
            "tags": [],
            "needs_background": "light"
          }
        }
      ]
    },
    {
      "cell_type": "code",
      "metadata": {
        "id": "mZeE6vNMdu8K",
        "colab_type": "code",
        "colab": {
          "base_uri": "https://localhost:8080/",
          "height": 295
        },
        "outputId": "d71d440a-51e3-403a-96ed-aeed2c734f02"
      },
      "source": [
        "# Training and Validation Accuracy\n",
        "\n",
        "acc_values = history_dict['binary_accuracy']\n",
        "val_acc_values = history_dict['val_binary_accuracy']\n",
        "\n",
        "epochs = range(1, len(loss_values) + 1)\n",
        "\n",
        "plt.plot(epochs, acc_values, 'ro', label=\"Training Accuracy\")\n",
        "plt.plot(epochs, val_acc_values, 'r', label=\"Validation Accuracy\")\n",
        "\n",
        "plt.title('Training and Validation Accuraccy')\n",
        "plt.xlabel('Epochs')\n",
        "plt.ylabel('Accuracy')\n",
        "plt.legend()\n",
        "\n",
        "plt.show()"
      ],
      "execution_count": 18,
      "outputs": [
        {
          "output_type": "display_data",
          "data": {
            "image/png": "[encoded data removed]",
            "text/plain": [
              "<Figure size 432x288 with 1 Axes>"
            ]
          },
          "metadata": {
            "tags": [],
            "needs_background": "light"
          }
        }
      ]
    },
    {
      "cell_type": "markdown",
      "metadata": {
        "id": "PSbxBlWkdu8N",
        "colab_type": "text"
      },
      "source": [
        "We observe that _minimum validation loss_ and _maximum validation Accuracy_ is achived at around 3-5 epochs. After that we observe 2 trends:\n",
        "* increase in validation loss and decrese in training loss\n",
        "* decrease in validation accuracy and increase in training accuracy\n",
        "\n",
        "This implies that the model is getting better at classifying the sentiment of the training data, but making consistently worse predictions when it encounters new, previously unseed data. This is the hallmark of _Overfitting_. After the 5th epoch the model begins to fit too closely to the trainning data.\n",
        "\n",
        "To address overfitting, we will reduce the number of epochs to somewhere between 3 and 5. These results may vary depending on your machine and due to the very nature of the random assignment of weights that may vary from model to mode.\n",
        "\n",
        "In our case we will stop training after 3 epochs."
      ]
    },
    {
      "cell_type": "markdown",
      "metadata": {
        "id": "wRBg7NPGdu8O",
        "colab_type": "text"
      },
      "source": [
        "### Retraining our model"
      ]
    },
    {
      "cell_type": "code",
      "metadata": {
        "id": "k8GpJAFYdu8O",
        "colab_type": "code",
        "colab": {
          "base_uri": "https://localhost:8080/",
          "height": 160
        },
        "outputId": "f918262e-b009-4e26-f3ac-2ff74bb8505b"
      },
      "source": [
        "model.fit(partial_X_train,\n",
        "                   partial_y_train,\n",
        "                   epochs=3,\n",
        "                   batch_size=512,\n",
        "                   validation_data=(X_val, y_val))"
      ],
      "execution_count": 19,
      "outputs": [
        {
          "output_type": "stream",
          "text": [
            "Train on 15000 samples, validate on 10000 samples\n",
            "Epoch 1/3\n",
            "15000/15000 [==============================] - 1s 70us/step - loss: 0.0067 - binary_accuracy: 0.9986 - val_loss: 0.7161 - val_binary_accuracy: 0.8652\n",
            "Epoch 2/3\n",
            "15000/15000 [==============================] - 1s 71us/step - loss: 0.0023 - binary_accuracy: 0.9999 - val_loss: 0.7528 - val_binary_accuracy: 0.8638\n",
            "Epoch 3/3\n",
            "15000/15000 [==============================] - 1s 72us/step - loss: 0.0050 - binary_accuracy: 0.9987 - val_loss: 0.7966 - val_binary_accuracy: 0.8632\n"
          ],
          "name": "stdout"
        },
        {
          "output_type": "execute_result",
          "data": {
            "text/plain": [
              "<keras.callbacks.callbacks.History at 0x7f5daedb5748>"
            ]
          },
          "metadata": {
            "tags": []
          },
          "execution_count": 19
        }
      ]
    },
    {
      "cell_type": "markdown",
      "metadata": {
        "id": "ENhrRprVdu8S",
        "colab_type": "text"
      },
      "source": [
        "In the end we achive a _training accuracy_ of 99% and a _validation accuray_ of 86%"
      ]
    },
    {
      "cell_type": "markdown",
      "metadata": {
        "id": "Stjtevk3du8T",
        "colab_type": "text"
      },
      "source": [
        "## Model Evaluation"
      ]
    },
    {
      "cell_type": "code",
      "metadata": {
        "id": "E__JXstSdu8U",
        "colab_type": "code",
        "colab": {}
      },
      "source": [
        "# Making Predictions for testing data\n",
        "np.set_printoptions(suppress=True)\n",
        "result = model.predict(X_test)"
      ],
      "execution_count": 20,
      "outputs": []
    },
    {
      "cell_type": "code",
      "metadata": {
        "id": "uyCq1gS6du8W",
        "colab_type": "code",
        "colab": {
          "base_uri": "https://localhost:8080/",
          "height": 142
        },
        "outputId": "574907cb-40c4-4d80-938a-c1e66e7e7659"
      },
      "source": [
        "result"
      ],
      "execution_count": 21,
      "outputs": [
        {
          "output_type": "execute_result",
          "data": {
            "text/plain": [
              "array([[0.00600008],\n",
              "       [1.        ],\n",
              "       [0.9999529 ],\n",
              "       ...,\n",
              "       [0.0021062 ],\n",
              "       [0.00654616],\n",
              "       [0.91432   ]], dtype=float32)"
            ]
          },
          "metadata": {
            "tags": []
          },
          "execution_count": 21
        }
      ]
    },
    {
      "cell_type": "code",
      "metadata": {
        "id": "baG9BE0Odu8a",
        "colab_type": "code",
        "colab": {}
      },
      "source": [
        "y_pred = np.zeros(len(result))\n",
        "for i, score in enumerate(result):\n",
        "    y_pred[i] = 1 if score > 0.5 else 0"
      ],
      "execution_count": 22,
      "outputs": []
    },
    {
      "cell_type": "code",
      "metadata": {
        "id": "lHNzU_Kwdu8d",
        "colab_type": "code",
        "colab": {}
      },
      "source": [
        "from sklearn.metrics import mean_absolute_error\n",
        "mae = mean_absolute_error(y_pred, y_test)"
      ],
      "execution_count": 23,
      "outputs": []
    },
    {
      "cell_type": "code",
      "metadata": {
        "id": "9ynk6Lgudu8g",
        "colab_type": "code",
        "colab": {
          "base_uri": "https://localhost:8080/",
          "height": 35
        },
        "outputId": "4c997cdd-b301-4435-d6af-04b7fe44046f"
      },
      "source": [
        "# Error\n",
        "mae"
      ],
      "execution_count": 24,
      "outputs": [
        {
          "output_type": "execute_result",
          "data": {
            "text/plain": [
              "0.15176"
            ]
          },
          "metadata": {
            "tags": []
          },
          "execution_count": 24
        }
      ]
    },
    {
      "cell_type": "markdown",
      "metadata": {
        "id": "o6mvJC8Mdu8i",
        "colab_type": "text"
      },
      "source": [
        "## Visualizing the network"
      ]
    },
    {
      "cell_type": "code",
      "metadata": {
        "id": "NpP1gQb4fKYg",
        "colab_type": "code",
        "colab": {
          "base_uri": "https://localhost:8080/",
          "height": 178
        },
        "outputId": "a57b91b1-add7-4fe2-f18b-bfcd614bd8e8"
      },
      "source": [
        "!pip install ann-visualizer"
      ],
      "execution_count": 25,
      "outputs": [
        {
          "output_type": "stream",
          "text": [
            "Collecting ann-visualizer\n",
            "  Downloading https://files.pythonhosted.org/packages/db/51/157be500337fba347e32711aaf9f11c1ba9e1162f486a1d708b4ae594ea4/ann_visualizer-2.5.tar.gz\n",
            "Building wheels for collected packages: ann-visualizer\n",
            "  Building wheel for ann-visualizer (setup.py) ... \u001b[?25l\u001b[?25hdone\n",
            "  Created wheel for ann-visualizer: filename=ann_visualizer-2.5-cp36-none-any.whl size=4169 sha256=276ea376464d9a5a1b8a5f96aa862f4e16b2cbdc31405301dbc27af0dca6314c\n",
            "  Stored in directory: /root/.cache/pip/wheels/b6/b4/4e/d92f50c9c4f004cf315a0e0fcd455486bd799c50fe80cf1f5d\n",
            "Successfully built ann-visualizer\n",
            "Installing collected packages: ann-visualizer\n",
            "Successfully installed ann-visualizer-2.5\n"
          ],
          "name": "stdout"
        }
      ]
    },
    {
      "cell_type": "code",
      "metadata": {
        "id": "mUb-3io7du8j",
        "colab_type": "code",
        "colab": {}
      },
      "source": [
        "from ann_visualizer.visualize import ann_viz\n",
        "ann_viz(model, title=\"Binary Classification of Movie Reviews\", filename=\"imdb_review.gv\")"
      ],
      "execution_count": null,
      "outputs": []
    },
    {
      "cell_type": "code",
      "metadata": {
        "id": "Phvb5lAMfIYW",
        "colab_type": "code",
        "colab": {}
      },
      "source": [
        ""
      ],
      "execution_count": null,
      "outputs": []
    }
  ]
}